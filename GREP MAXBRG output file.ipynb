{
 "cells": [
  {
   "cell_type": "code",
   "execution_count": 63,
   "metadata": {
    "scrolled": true
   },
   "outputs": [
    {
     "name": "stdout",
     "output_type": "stream",
     "text": [
      " MAXBRG Version 5.2 (Nov 2010)    \n",
      "\n",
      " Scratched elliptical 20x40  [MAXBRG 01-08-18]]                                  \n",
      "\n",
      "MAXBRG RESULTS OF CASE # 1:\n",
      "\n",
      "MAXBRG RESULTS OF CASE # 2:\n",
      "\n",
      "MAXBRG RESULTS OF CASE # 3:\n",
      "\n",
      "MAXBRG RESULTS OF CASE # 4:\n",
      "\n",
      "MAXBRG RESULTS OF CASE # 5:\n",
      "\n",
      "MAXBRG RESULTS OF CASE # 6:\n",
      "\n",
      "MAXBRG RESULTS OF CASE # 7:\n",
      "\n",
      "MAXBRG RESULTS OF CASE # 8:\n",
      "\n",
      "MAXBRG RESULTS OF CASE # 9:\n",
      "\n",
      "MAXBRG RESULTS OF CASE #10:\n",
      "\n",
      "MAXBRG RESULTS OF CASE #11:\n",
      "\n",
      "MAXBRG RESULTS OF CASE #12:\n",
      "\n",
      "MAXBRG RESULTS OF CASE #13:\n",
      "\n",
      "MAXBRG RESULTS OF CASE #14:\n",
      "\n",
      "MAXBRG RESULTS OF CASE #15:\n",
      "\n",
      "MAXBRG RESULTS OF CASE #16:\n",
      "\n",
      "MAXBRG RESULTS OF CASE #17:\n",
      "\n",
      "MAXBRG RESULTS OF CASE #18:\n",
      "\n",
      "MAXBRG RESULTS OF CASE #19:\n",
      "\n",
      "MAXBRG RESULTS OF CASE #20:\n",
      "\n",
      "Case Speed  SpecLoad  Sommerfeld   Hmin  Tmax\n",
      "  #    rpm     psi       dim       mils    F\n",
      " 0   5400.0     2800    0.028      1.78  271.4\n",
      " 1   5400.0     2800    0.028      1.78  271.3\n",
      " 2   5400.0     2900    0.027      1.70  272.6\n",
      " 3   5400.0     3000    0.026      1.64  273.9\n",
      " 4   5400.0     3100    0.025      1.58  275.1\n",
      " 5   5400.0     3200    0.025      1.52  276.1\n",
      " 6   5400.0     3300    0.024      1.47  278.1\n",
      " 7   5400.0     3400    0.023      1.42  280.1\n",
      " 8   5400.0     3500    0.023      1.37  281.8\n",
      " 9   5400.0     3600    0.022      1.31  283.6\n",
      "10   5400.0     3700    0.021      1.26  285.4\n",
      "11   5400.0     3800    0.021      1.22  286.8\n",
      "12   5400.0     3900    0.020      1.18  287.9\n",
      "13   5400.0     4000    0.020      1.14  288.9\n",
      "14   5400.0     4100    0.019      1.10  289.8\n",
      "15   5400.0     4200    0.019      1.07  290.6\n",
      "16   5400.0     4300    0.018      1.04  292.1\n",
      "17   5400.0     4400    0.018      1.00  294.3\n",
      "18   5400.0     4500    0.018      0.97  296.3\n",
      "19   5400.0     4600    0.017      0.94  298.3\n"
     ]
    }
   ],
   "source": [
    "## Read MAXBRG output file for each case\n",
    "import numpy as np\n",
    "filename = 'c:\\\\dropbox\\\\romac\\\\work\\\\BAA\\\\El20x40m1.out'\n",
    "file = open(filename,'r')\n",
    "npad = 2      # elliptical bearings\n",
    "count = 30\n",
    "speed=np.zeros(count)\n",
    "specload=np.zeros(count)\n",
    "somm=np.zeros(count)\n",
    "hmin=np.zeros(count)\n",
    "tmax=np.zeros(count)\n",
    "caseCount = -1\n",
    "# Generate table with speed, load, Sommerfeld, hmin, tmax\n",
    "for line in file:\n",
    "    if \"MAXBRG\" in line:\n",
    "        print (line)\n",
    "    if \"Speed(RPM)\" in line:\n",
    "        caseCount=caseCount+1\n",
    "        data = line.split()\n",
    "        #print (\"Speed \",data[1],\" rpm\")\n",
    "        #print (\"Specific load \",data[4],\" psi\")\n",
    "        speed[caseCount]=data[1]\n",
    "        specload[caseCount]=data[4]\n",
    "    if \"Sommerfeld Number\" in line:\n",
    "        data=line.split()\n",
    "        #print (\"Sommerfeld number \",data[2])\n",
    "        somm[caseCount]=data[2]\n",
    "    if \"Eccentricity\" in line:\n",
    "        data = line.split()\n",
    "        #print (\"Eccentricity \",data[2],\" at \",data[5],\" degrees\")\n",
    "    if \"Hmin (IN)\" in line:\n",
    "        for i in range(npad):\n",
    "            hminline = file.readline()\n",
    "            data = hminline.split()\n",
    "            #print (\"Pad #\",data[0],\" hmin \",data[4],\" inches\")\n",
    "            hmin[caseCount]= float(data[4])*1000.0  # mils\n",
    "    if \"Maximum Pad Temperature=\" in line:\n",
    "        data = line.split()\n",
    "        #print (\"Tmax \",data[3],\" on pad#\",data[8])\n",
    "        tmax[caseCount]=data[3]\n",
    "        #print()\n",
    "caseCount = caseCount+1\n",
    "file.close()\n",
    "print(\"Case Speed  SpecLoad  Sommerfeld   Hmin  Tmax\")\n",
    "print(\"  #    rpm     psi       dim       mils    F\")\n",
    "for i in range(caseCount):\n",
    "    print(\"%2d   %.1f    %5.0f    %.3f      %.2f  %.1f\"\n",
    "          % (i,speed[i],specload[i],somm[i],hmin[i],tmax[i]))"
   ]
  },
  {
   "cell_type": "code",
   "execution_count": 20,
   "metadata": {},
   "outputs": [
    {
     "data": {
      "image/png": "[encoded data removed]",
      "text/plain": [
       "<matplotlib.figure.Figure at 0x90e2908>"
      ]
     },
     "metadata": {},
     "output_type": "display_data"
    },
    {
     "data": {
      "image/png": "[encoded data removed]",
      "text/plain": [
       "<matplotlib.figure.Figure at 0x91e6898>"
      ]
     },
     "metadata": {},
     "output_type": "display_data"
    }
   ],
   "source": [
    "import matplotlib.pyplot as plt\n",
    "fig,axH=plt.subplots()\n",
    "axH.plot(specload,hmin,'b*')\n",
    "#axH.axis([1000,3000,0,4.0])\n",
    "graphTitle='1800 rpm 20x2.5 m=0.7'\n",
    "axH.set_title(graphTitle)\n",
    "axH.set_xlabel('Specific Load (psi)')\n",
    "axH.set_ylabel('Minimum film thickness (mils)')\n",
    "axH.grid(True)\n",
    "plt.show\n",
    "fig,axT=plt.subplots()\n",
    "axT.plot(specload,tmax,'r*')\n",
    "#axT.axis([1000,3000,100,250])\n",
    "axT.set_title(graphTitle)\n",
    "axT.set_xlabel('Specific Load (psi)')\n",
    "axT.set_ylabel('Maximum Babbitt Temp (degF)')\n",
    "axT.grid(True)\n",
    "plt.show()"
   ]
  },
  {
   "cell_type": "code",
   "execution_count": null,
   "metadata": {},
   "outputs": [],
   "source": []
  },
  {
   "cell_type": "code",
   "execution_count": null,
   "metadata": {},
   "outputs": [],
   "source": []
  },
  {
   "cell_type": "code",
   "execution_count": null,
   "metadata": {},
   "outputs": [],
   "source": []
  }
 ],
 "metadata": {
  "kernelspec": {
   "display_name": "Python 3",
   "language": "python",
   "name": "python3"
  },
  "language_info": {
   "codemirror_mode": {
    "name": "ipython",
    "version": 3
   },
   "file_extension": ".py",
   "mimetype": "text/x-python",
   "name": "python",
   "nbconvert_exporter": "python",
   "pygments_lexer": "ipython3",
   "version": "3.6.3"
  }
 },
 "nbformat": 4,
 "nbformat_minor": 2
}
